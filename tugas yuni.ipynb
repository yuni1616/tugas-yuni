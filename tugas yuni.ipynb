{
 "cells": [
  {
   "cell_type": "markdown",
   "metadata": {},
   "source": [
    "NAMA : YUNI  \n",
    "NIM : H061241072"
   ]
  },
  {
   "cell_type": "markdown",
   "metadata": {},
   "source": [
    "**Soal 1**: Seorang pelanggan membeli baju di toko. Jika 3 angka terakhir NIM Anda > 600, dia mendapatkan diskon 20%. Jika tidak, diskon 10%. Buat program untuk menghitung total harga.\n"
   ]
  },
  {
   "cell_type": "code",
   "execution_count": null,
   "metadata": {},
   "outputs": [
    {
     "name": "stdout",
     "output_type": "stream",
     "text": [
      "NIM Anda: H061241072\n",
      "Harga baju: 500000\n",
      "Total harga setelah diskon adalah: 450000.00\n"
     ]
    }
   ],
   "source": [
    "def hitung_total_harga(harga_asli, nim):\n",
    "    nim_str = ''.join(filter(str.isdigit, str(nim)))  \n",
    "    tiga_angka_terakhir = int(nim_str[-3:]) if len(nim_str) >= 3 else 0\n",
    "    if tiga_angka_terakhir > 600:\n",
    "        diskon = 0.20  \n",
    "    else:\n",
    "        diskon = 0.10 \n",
    "    total_harga = harga_asli * (1 - diskon)\n",
    "    return total_harga\n",
    "nim = \"H061241072\"\n",
    "harga_asli = 500000\n",
    "total_harga = hitung_total_harga(harga_asli, nim)\n",
    "print(f\"Harga baju: {harga_asli}\")\n",
    "print(f\"Total harga setelah diskon adalah: {total_harga:.2f}\")"
   ]
  },
  {
   "cell_type": "markdown",
   "metadata": {},
   "source": [
    "**Soal 2**: Seorang siswa ingin menentukan apakah dia mendapatkan beasiswa. Jika 3 angka terakhir NIM Anda genap, syaratnya nilai >= 85. Jika ganjil, syaratnya nilai >= 80. Buat program untuk menentukan hasilnya.\n"
   ]
  },
  {
   "cell_type": "code",
   "execution_count": null,
   "metadata": {},
   "outputs": [
    {
     "name": "stdout",
     "output_type": "stream",
     "text": [
      "Nilai: 87.5\n",
      "Selamat! Anda mendapatkan beasiswa.\n"
     ]
    }
   ],
   "source": [
    "def cek_beasiswa(nim):\n",
    "    nim_terakhir = int(nim[-3:])\n",
    "    if nim_terakhir % 2 == 0:\n",
    "        syarat_nilai = 85\n",
    "    else:\n",
    "        syarat_nilai = 80\n",
    "    nilai = 87.5  \n",
    "    if nilai >= syarat_nilai:\n",
    "        print(f\"Nilai: {nilai}\")\n",
    "        print(\"Selamat! Anda mendapatkan beasiswa.\")\n",
    "    else:\n",
    "        print(f\"Nilai: {nilai}\")\n",
    "        print(\"Maaf, Anda belum memenuhi syarat beasiswa.\")\n",
    "nim = \"H061241072\"\n",
    "cek_beasiswa(nim)"
   ]
  },
  {
   "cell_type": "markdown",
   "metadata": {},
   "source": [
    "**Soal 3**: Sebuah toko online memberikan diskon 15% jika total belanja di atas Rp 300.000 dikurangi 3 angka terakhir NIM Anda. Buat program untuk menghitung total harga.\n"
   ]
  },
  {
   "cell_type": "code",
   "execution_count": null,
   "metadata": {},
   "outputs": [
    {
     "name": "stdout",
     "output_type": "stream",
     "text": [
      "Total belanja: Rp400000.00\n",
      "Batas diskon: Rp299928\n",
      "Diskon yang diberikan: 15.0%\n",
      "Total harga setelah diskon: Rp340000.00\n"
     ]
    }
   ],
   "source": [
    "def hitung_total_harga(total_belanja, nim_terakhir):\n",
    "    batas_diskon = 300000 - nim_terakhir\n",
    "    if total_belanja > batas_diskon:\n",
    "        diskon = 0.15  \n",
    "    else:\n",
    "        diskon = 0.0  \n",
    "    potongan = total_belanja * diskon\n",
    "    harga_setelah_diskon = total_belanja - potongan\n",
    "    return harga_setelah_diskon, diskon * 100\n",
    "total_belanja = 400000\n",
    "nim = \"H061241072\"  \n",
    "nim_terakhir = int(nim[-3:])  \n",
    "total_harga, persen_diskon = hitung_total_harga(total_belanja, nim_terakhir)\n",
    "print(f\"Total belanja: Rp{total_belanja:.2f}\")\n",
    "print(f\"Batas diskon: Rp{300000 - nim_terakhir}\")\n",
    "print(f\"Diskon yang diberikan: {persen_diskon}%\")\n",
    "print(f\"Total harga setelah diskon: Rp{total_harga:.2f}\")"
   ]
  },
  {
   "cell_type": "markdown",
   "metadata": {},
   "source": [
    "**Soal 4**: Seorang karyawan mendapatkan bonus jika bekerja lebih dari 50 jam. Bonusnya adalah 15% dari gaji ditambah 3 angka terakhir NIM Anda. Buat program untuk menghitung gaji karyawan.\n"
   ]
  },
  {
   "cell_type": "code",
   "execution_count": null,
   "metadata": {},
   "outputs": [
    {
     "name": "stdout",
     "output_type": "stream",
     "text": [
      "Gaji Pokok: Rp600000\n",
      "Jam Kerja: 55 jam\n",
      "Bonus: Rp90072.0\n",
      "Total Gaji: Rp690072.0\n"
     ]
    }
   ],
   "source": [
    "def hitung_gaji(gaji_pokok, jam_kerja, nim):\n",
    "    nim_terakhir = int(nim[-3:])\n",
    "    if jam_kerja > 50:\n",
    "        bonus = (0.15 * gaji_pokok) + nim_terakhir\n",
    "    else:\n",
    "        bonus = 0\n",
    "    total_gaji = gaji_pokok + bonus\n",
    "    return total_gaji, bonus\n",
    "gaji_pokok = 600000 \n",
    "jam_kerja = 55 \n",
    "nim = \"H061241072\"  \n",
    "total_gaji, bonus = hitung_gaji(gaji_pokok, jam_kerja, nim)\n",
    "print(f\"Gaji Pokok: Rp{gaji_pokok}\")\n",
    "print(f\"Jam Kerja: {jam_kerja} jam\")\n",
    "print(f\"Bonus: Rp{bonus}\")\n",
    "print(f\"Total Gaji: Rp{total_gaji}\")"
   ]
  },
  {
   "cell_type": "markdown",
   "metadata": {},
   "source": [
    "**Soal 5**: Sebuah restoran memberikan diskon 10% untuk pesanan di atas Rp 100.000 ditambah 3 angka terakhir NIM Anda. Buat program untuk menghitung total biaya."
   ]
  },
  {
   "cell_type": "code",
   "execution_count": null,
   "metadata": {},
   "outputs": [
    {
     "name": "stdout",
     "output_type": "stream",
     "text": [
      "Total pesanan: Rp150000.00\n",
      "Batas diskon: Rp100072\n",
      "Diskon yang diberikan: 10.0%\n",
      "Total biaya setelah diskon: Rp135000.00\n"
     ]
    }
   ],
   "source": [
    "def hitung_total_biaya(total_pesanan, nim):\n",
    "    nim_terakhir = int(nim[-3:])\n",
    "    batas_diskon = 100000 + nim_terakhir\n",
    "    if total_pesanan > batas_diskon:\n",
    "        diskon = 0.10  \n",
    "    else:\n",
    "        diskon = 0.0  \n",
    "    potongan = total_pesanan * diskon\n",
    "    harga_setelah_diskon = total_pesanan - potongan\n",
    "    \n",
    "    return harga_setelah_diskon, diskon * 100\n",
    "total_pesanan = 150000  \n",
    "nim = \"H061241072\"  \n",
    "total_biaya, persen_diskon = hitung_total_biaya(total_pesanan, nim)\n",
    "print(f\"Total pesanan: Rp{total_pesanan:.2f}\")\n",
    "print(f\"Batas diskon: Rp{100000 + int(nim[-3:])}\")\n",
    "print(f\"Diskon yang diberikan: {persen_diskon}%\")\n",
    "print(f\"Total biaya setelah diskon: Rp{total_biaya:.2f}\")"
   ]
  },
  {
   "cell_type": "markdown",
   "metadata": {},
   "source": [
    "**Soal 6**: Seorang pelari ingin menentukan apakah dia berhasil memenuhi target latihan. Jika jarak lari > (3 angka terakhir NIM Anda % 10) km, dia berhasil. Buat program untuk menentukan hasil latihannya.\n"
   ]
  },
  {
   "cell_type": "code",
   "execution_count": null,
   "metadata": {},
   "outputs": [
    {
     "name": "stdout",
     "output_type": "stream",
     "text": [
      "Target jarak lari: 2 km\n",
      "Jarak lari: 6 km\n",
      "Hasil: Berhasil memenuhi target!\n"
     ]
    }
   ],
   "source": [
    "def cek_target_lari(jarak_lari, nim):\n",
    "    nim_terakhir = int(nim[-3:])\n",
    "    target_lari = nim_terakhir % 10\n",
    "    if jarak_lari > target_lari:\n",
    "        hasil = \"Berhasil memenuhi target!\"\n",
    "    else:\n",
    "        hasil = \"Belum memenuhi target.\"\n",
    "    return target_lari, hasil\n",
    "jarak_lari = 6 \n",
    "nim = \"H061241072\"  \n",
    "target_lari, hasil = cek_target_lari(jarak_lari, nim)\n",
    "print(f\"Target jarak lari: {target_lari} km\")\n",
    "print(f\"Jarak lari: {jarak_lari} km\")\n",
    "print(f\"Hasil: {hasil}\")"
   ]
  },
  {
   "cell_type": "markdown",
   "metadata": {},
   "source": [
    "**Soal 7**: Sebuah bioskop memberikan diskon 50% untuk pelajar jika 3 angka terakhir NIM Anda genap. Jika ganjil, diskon 25%. Buat program untuk menentukan harga tiket.\n"
   ]
  },
  {
   "cell_type": "code",
   "execution_count": null,
   "metadata": {},
   "outputs": [
    {
     "name": "stdout",
     "output_type": "stream",
     "text": [
      "Diskon yang diberikan: 50.0%\n",
      "Harga tiket setelah diskon: Rp25000.00\n"
     ]
    }
   ],
   "source": [
    "def hitung_harga_tiket(harga_tiket, nim):\n",
    "    nim_terakhir = int(nim[-3:])\n",
    "    if nim_terakhir % 2 == 0:\n",
    "        diskon = 0.50  \n",
    "    else:\n",
    "        diskon = 0.25  \n",
    "    potongan = harga_tiket * diskon\n",
    "    harga_setelah_diskon = harga_tiket - potongan\n",
    "    return harga_setelah_diskon, diskon * 100\n",
    "harga_tiket = 50000  \n",
    "nim = \"H061241072\"  \n",
    "total_harga, persen_diskon = hitung_harga_tiket(harga_tiket, nim)\n",
    "print(f\"Diskon yang diberikan: {persen_diskon}%\")\n",
    "print(f\"Harga tiket setelah diskon: Rp{total_harga:.2f}\")"
   ]
  },
  {
   "cell_type": "markdown",
   "metadata": {},
   "source": [
    "**Soal 8**: Sebuah toko buku memberikan diskon 25% jika pelanggan membeli lebih dari 10 buku dan 3 angka terakhir NIM Anda > 400. Jika tidak, diskon 15%. Buat program untuk menghitung total harga.\n"
   ]
  },
  {
   "cell_type": "code",
   "execution_count": null,
   "metadata": {},
   "outputs": [
    {
     "name": "stdout",
     "output_type": "stream",
     "text": [
      "Jumlah Buku: 12\n",
      "Harga per Buku: Rp50000\n",
      "Diskon yang diberikan: 15.0%\n",
      "Total harga setelah diskon: Rp510000.00\n"
     ]
    }
   ],
   "source": [
    "def hitung_total_harga(jumlah_buku, harga_per_buku, nim):\n",
    "    nim_terakhir = int(nim[-3:])\n",
    "    if jumlah_buku > 10 and nim_terakhir > 400:\n",
    "        diskon = 0.25  \n",
    "    else:\n",
    "        diskon = 0.15  \n",
    "    total_harga = jumlah_buku * harga_per_buku\n",
    "    potongan = total_harga * diskon\n",
    "    harga_setelah_diskon = total_harga - potongan\n",
    "    return harga_setelah_diskon, diskon * 100\n",
    "jumlah_buku = 12  \n",
    "harga_per_buku = 50000  \n",
    "nim = \"H061241072\"  \n",
    "total_harga, persen_diskon = hitung_total_harga(jumlah_buku, harga_per_buku, nim)\n",
    "print(f\"Jumlah Buku: {jumlah_buku}\")\n",
    "print(f\"Harga per Buku: Rp{harga_per_buku}\")\n",
    "print(f\"Diskon yang diberikan: {persen_diskon}%\")\n",
    "print(f\"Total harga setelah diskon: Rp{total_harga:.2f}\")"
   ]
  },
  {
   "cell_type": "markdown",
   "metadata": {},
   "source": [
    "**Soal 9**: Seorang mahasiswa ingin menentukan apakah suatu bilangan positif, negatif, atau nol. Jika 3 angka terakhir NIM Anda genap, cetak \"Positif\". Jika ganjil, cetak \"Negatif\".\n"
   ]
  },
  {
   "cell_type": "code",
   "execution_count": null,
   "metadata": {},
   "outputs": [
    {
     "name": "stdout",
     "output_type": "stream",
     "text": [
      "Hasil: Positif\n"
     ]
    }
   ],
   "source": [
    "def cek_bilangan(nim):\n",
    "    nim_terakhir = int(nim[-3:])\n",
    "    if nim_terakhir % 2 == 0:\n",
    "        hasil = \"Positif\"\n",
    "    else:\n",
    "        hasil = \"Negatif\"\n",
    "    return hasil\n",
    "nim = \"H061241072\"  \n",
    "hasil = cek_bilangan(nim)\n",
    "print(f\"Hasil: {hasil}\")"
   ]
  },
  {
   "cell_type": "markdown",
   "metadata": {},
   "source": [
    "**Soal 10**: Sebuah aplikasi menentukan apakah suatu bilangan adalah bilangan Armstrong. Jika 3 angka terakhir NIM Anda genap, cetak \"Armstrong\". Jika ganjil, cetak \"Bukan Armstrong\"."
   ]
  },
  {
   "cell_type": "code",
   "execution_count": 36,
   "metadata": {},
   "outputs": [
    {
     "name": "stdout",
     "output_type": "stream",
     "text": [
      "Hasil: Armstrong\n"
     ]
    }
   ],
   "source": [
    "def cek_armstrong(nim):\n",
    "    nim_terakhir = int(nim[-3:])\n",
    "    if nim_terakhir % 2 == 0:\n",
    "        hasil = \"Armstrong\"\n",
    "    else:\n",
    "        hasil = \"Bukan Armstrong\"\n",
    "    return hasil\n",
    "nim = \"H061241072\"  \n",
    "hasil = cek_armstrong(nim)\n",
    "print(f\"Hasil: {hasil}\")"
   ]
  },
  {
   "cell_type": "markdown",
   "metadata": {},
   "source": [
    "**Soal 11**: Seorang pelanggan ingin mencetak daftar belanjaannya sebanyak (3 angka terakhir NIM Anda % 7) kali. Buat program untuk mencetak daftar belanja tersebut.\n"
   ]
  },
  {
   "cell_type": "code",
   "execution_count": 43,
   "metadata": {},
   "outputs": [
    {
     "name": "stdout",
     "output_type": "stream",
     "text": [
      "Cetakan ke-1:\n",
      "- Beras\n",
      "- Minyak Goreng\n",
      "- Gula\n",
      "- kopi\n",
      "- susu\n",
      "- roti\n",
      "\n",
      "Cetakan ke-2:\n",
      "- Beras\n",
      "- Minyak Goreng\n",
      "- Gula\n",
      "- kopi\n",
      "- susu\n",
      "- roti\n",
      "\n"
     ]
    }
   ],
   "source": [
    "def cetak_daftar_belanja(nim, daftar_belanja):\n",
    "    nim_terakhir = int(nim[-3:])\n",
    "    jumlah_cetakan = nim_terakhir % 7\n",
    "    for i in range(jumlah_cetakan):\n",
    "        print(f\"Cetakan ke-{i+1}:\")\n",
    "        for item in daftar_belanja:\n",
    "            print(f\"- {item}\")\n",
    "        print()\n",
    "nim = \"H061241072\"  \n",
    "daftar_belanja = [\"Beras\", \"Minyak Goreng\", \"Gula\", \"kopi\", \"susu\", \"roti\"]  \n",
    "cetak_daftar_belanja(nim, daftar_belanja)"
   ]
  },
  {
   "cell_type": "markdown",
   "metadata": {},
   "source": [
    "**Soal 12**: Seorang guru ingin mencetak angka dari 1 sampai 50, tetapi hanya bilangan kelipatan (3 angka terakhir NIM Anda % 6). Buat program untuk mencetak bilangan tersebut."
   ]
  },
  {
   "cell_type": "code",
   "execution_count": 44,
   "metadata": {},
   "outputs": [
    {
     "name": "stdout",
     "output_type": "stream",
     "text": [
      "Tidak ada kelipatan yang dicetak karena hasil mod 6 adalah 0.\n"
     ]
    }
   ],
   "source": [
    "def cetak_kelipatan_nim(nim):\n",
    "    nim_terakhir = int(nim[-3:])\n",
    "    kelipatan = nim_terakhir % 6\n",
    "    if kelipatan == 0:\n",
    "        print(\"Tidak ada kelipatan yang dicetak karena hasil mod 6 adalah 0.\")\n",
    "    else:\n",
    "        print(f\"Bilangan kelipatan {kelipatan} dari 1 sampai 50:\")\n",
    "        for i in range(kelipatan, 51, kelipatan):\n",
    "            print(i)\n",
    "nim = \"H061241072\"  \n",
    "cetak_kelipatan_nim(nim)"
   ]
  },
  {
   "cell_type": "markdown",
   "metadata": {},
   "source": [
    "**Soal 13**: Seorang penjual ingin mencetak tabel perkalian (3 angka terakhir NIM Anda % 8). Buat program untuk mencetak tabel tersebut."
   ]
  },
  {
   "cell_type": "code",
   "execution_count": 45,
   "metadata": {},
   "outputs": [
    {
     "name": "stdout",
     "output_type": "stream",
     "text": [
      "Tabel Perkalian 1:\n",
      "1 x 1 = 1\n",
      "1 x 2 = 2\n",
      "1 x 3 = 3\n",
      "1 x 4 = 4\n",
      "1 x 5 = 5\n",
      "1 x 6 = 6\n",
      "1 x 7 = 7\n",
      "1 x 8 = 8\n",
      "1 x 9 = 9\n",
      "1 x 10 = 10\n"
     ]
    }
   ],
   "source": [
    "def cetak_tabel_perkalian(nim):\n",
    "    nim_terakhir = int(nim[-3:])\n",
    "    angka_perkalian = nim_terakhir % 8\n",
    "    if angka_perkalian == 0:\n",
    "        angka_perkalian = 1\n",
    "    print(f\"Tabel Perkalian {angka_perkalian}:\")\n",
    "    for i in range(1, 11):\n",
    "        print(f\"{angka_perkalian} x {i} = {angka_perkalian * i}\")\n",
    "nim = \"H061241072\"  \n",
    "cetak_tabel_perkalian(nim)"
   ]
  },
  {
   "cell_type": "markdown",
   "metadata": {},
   "source": [
    "**Soal 14**: Seorang pelukis ingin mencetak pola bintang persegi dengan sisi (3 angka terakhir NIM Anda % 5). Buat program untuk mencetak pola tersebut."
   ]
  },
  {
   "cell_type": "code",
   "execution_count": 46,
   "metadata": {},
   "outputs": [
    {
     "name": "stdout",
     "output_type": "stream",
     "text": [
      "Pola bintang persegi dengan sisi 2:\n",
      "* * \n",
      "* * \n"
     ]
    }
   ],
   "source": [
    "def cetak_pola_bintang(nim):\n",
    "    nim_terakhir = int(nim[-3:])\n",
    "    ukuran_sisi = nim_terakhir % 5\n",
    "    if ukuran_sisi == 0:\n",
    "        ukuran_sisi = 3\n",
    "    print(f\"Pola bintang persegi dengan sisi {ukuran_sisi}:\")\n",
    "    for i in range(ukuran_sisi):\n",
    "        print(\"* \" * ukuran_sisi)\n",
    "nim = \"H061241072\"  \n",
    "cetak_pola_bintang(nim)"
   ]
  },
  {
   "cell_type": "markdown",
   "metadata": {},
   "source": [
    "**Soal 15**: Seorang peneliti ingin mencetak bilangan komposit dari 1 sampai (3 angka terakhir NIM Anda). Buat program untuk mencetak bilangan tersebut."
   ]
  },
  {
   "cell_type": "code",
   "execution_count": 47,
   "metadata": {},
   "outputs": [
    {
     "name": "stdout",
     "output_type": "stream",
     "text": [
      "Bilangan komposit dari 1 sampai 72:\n",
      "4 6 8 9 10 12 14 15 16 18 20 21 22 24 25 26 27 28 30 32 33 34 35 36 38 39 40 42 44 45 46 48 49 50 51 52 54 55 56 57 58 60 62 63 64 65 66 68 69 70 72 \n"
     ]
    }
   ],
   "source": [
    "def cetak_bilangan_komposit(nim):\n",
    "    nim_terakhir = int(nim[-3:])\n",
    "    def is_komposit(n):\n",
    "        if n < 2:\n",
    "            return False\n",
    "        for i in range(2, n):\n",
    "            if n % i == 0:\n",
    "                return True\n",
    "        return False\n",
    "    print(f\"Bilangan komposit dari 1 sampai {nim_terakhir}:\")\n",
    "    for i in range(1, nim_terakhir + 1):\n",
    "        if is_komposit(i):\n",
    "            print(i, end=\" \")\n",
    "    print()\n",
    "nim = \"H061241072\" \n",
    "cetak_bilangan_komposit(nim)"
   ]
  },
  {
   "cell_type": "markdown",
   "metadata": {},
   "source": [
    "**Soal 16**: Seorang programmer ingin mencetak deret kuadrat dari 1 sampai (3 angka terakhir NIM Anda % 10). Buat program untuk mencetak deret tersebut.\n"
   ]
  },
  {
   "cell_type": "code",
   "execution_count": 50,
   "metadata": {},
   "outputs": [
    {
     "name": "stdout",
     "output_type": "stream",
     "text": [
      "Deret kuadrat dari 1 sampai 2:\n",
      "1^2 = 1\n",
      "2^2 = 4\n"
     ]
    }
   ],
   "source": [
    "def cetak_deret_kuadrat(nim):\n",
    "    nim_terakhir = int(nim[-3:])\n",
    "    batas = nim_terakhir % 10\n",
    "    if batas == 0:\n",
    "        batas = 5\n",
    "    print(f\"Deret kuadrat dari 1 sampai {batas}:\")\n",
    "    for i in range(1, batas + 1):\n",
    "        print(f\"{i}^2 = {i**2}\")\n",
    "nim = \"H061241072\"  \n",
    "cetak_deret_kuadrat(nim)"
   ]
  },
  {
   "cell_type": "markdown",
   "metadata": {},
   "source": [
    "**Soal 17**: Seorang petani ingin mencetak bilangan kelipatan (3 angka terakhir NIM Anda % 7) dari 1 sampai 100. Buat program untuk mencetak bilangan tersebut.\n"
   ]
  },
  {
   "cell_type": "code",
   "execution_count": 51,
   "metadata": {},
   "outputs": [
    {
     "name": "stdout",
     "output_type": "stream",
     "text": [
      "Bilangan kelipatan 2 dari 1 sampai 100:\n",
      "2 4 6 8 10 12 14 16 18 20 22 24 26 28 30 32 34 36 38 40 42 44 46 48 50 52 54 56 58 60 62 64 66 68 70 72 74 76 78 80 82 84 86 88 90 92 94 96 98 100 \n"
     ]
    }
   ],
   "source": [
    "def cetak_kelipatan_nim(nim):\n",
    "    nim_terakhir = int(nim[-3:])\n",
    "    kelipatan = nim_terakhir % 7\n",
    "    if kelipatan == 0:\n",
    "        kelipatan = 1\n",
    "    print(f\"Bilangan kelipatan {kelipatan} dari 1 sampai 100:\")\n",
    "    for i in range(kelipatan, 101, kelipatan):\n",
    "        print(i, end=\" \")\n",
    "    print()\n",
    "nim = \"H061241072\"  \n",
    "cetak_kelipatan_nim(nim)"
   ]
  },
  {
   "cell_type": "markdown",
   "metadata": {},
   "source": [
    "**Soal 18**: Seorang siswa ingin mencetak bilangan genap dari 2 sampai (3 angka terakhir NIM Anda). Buat program untuk mencetak bilangan tersebut."
   ]
  },
  {
   "cell_type": "code",
   "execution_count": 52,
   "metadata": {},
   "outputs": [
    {
     "name": "stdout",
     "output_type": "stream",
     "text": [
      "Bilangan genap dari 2 sampai 72:\n",
      "2 4 6 8 10 12 14 16 18 20 22 24 26 28 30 32 34 36 38 40 42 44 46 48 50 52 54 56 58 60 62 64 66 68 70 72 \n"
     ]
    }
   ],
   "source": [
    "def cetak_bilangan_genap(nim):\n",
    "    nim_terakhir = int(nim[-3:])\n",
    "    print(f\"Bilangan genap dari 2 sampai {nim_terakhir}:\")\n",
    "    for i in range(2, nim_terakhir + 1, 2):\n",
    "        print(i, end=\" \")\n",
    "    print()\n",
    "nim = \"H061241072\"  \n",
    "cetak_bilangan_genap(nim)"
   ]
  },
  {
   "cell_type": "markdown",
   "metadata": {},
   "source": [
    "**Soal 19**: Seorang penjual ingin mencetak faktorial dari (3 angka terakhir NIM Anda % 6). Buat program untuk mencetak faktorial tersebut."
   ]
  },
  {
   "cell_type": "code",
   "execution_count": 53,
   "metadata": {},
   "outputs": [
    {
     "name": "stdout",
     "output_type": "stream",
     "text": [
      "Faktorial dari 1 adalah 1\n"
     ]
    }
   ],
   "source": [
    "import math\n",
    "def cetak_faktorial(nim):\n",
    "    nim_terakhir = int(nim[-3:])\n",
    "    angka_faktorial = nim_terakhir % 6\n",
    "    if angka_faktorial == 0:\n",
    "        angka_faktorial = 1\n",
    "    hasil = math.factorial(angka_faktorial)\n",
    "    print(f\"Faktorial dari {angka_faktorial} adalah {hasil}\")\n",
    "nim = \"H061241072\" \n",
    "cetak_faktorial(nim)"
   ]
  },
  {
   "cell_type": "markdown",
   "metadata": {},
   "source": [
    "**Soal 20**: Seorang pelanggan ingin mencetak \"Selamat Datang\" sebanyak (3 angka terakhir NIM Anda % 4) kali. Buat program untuk mencetak pesan tersebut."
   ]
  },
  {
   "cell_type": "code",
   "execution_count": 56,
   "metadata": {},
   "outputs": [
    {
     "name": "stdout",
     "output_type": "stream",
     "text": [
      "Selamat Datang\n",
      "Selamat Datang\n",
      "Selamat Datang\n",
      "Selamat Datang\n",
      "Selamat Datang\n",
      "Selamat Datang\n",
      "Selamat Datang\n",
      "Selamat Datang\n",
      "Selamat Datang\n",
      "Selamat Datang\n",
      "Selamat Datang\n",
      "Selamat Datang\n",
      "Selamat Datang\n",
      "Selamat Datang\n",
      "Selamat Datang\n",
      "Selamat Datang\n",
      "Selamat Datang\n",
      "Selamat Datang\n",
      "Selamat Datang\n",
      "Selamat Datang\n"
     ]
    }
   ],
   "source": [
    "def cetak_pesan(nim):\n",
    "    nim_terakhir = int(nim[-3:])\n",
    "    jumlah_cetakan = nim_terakhir % 4\n",
    "    if jumlah_cetakan == 0:\n",
    "        jumlah_cetakan = 20\n",
    "    for i in range(jumlah_cetakan):\n",
    "        print(\"Selamat Datang\")\n",
    "nim = \"H061241072\" \n",
    "cetak_pesan(nim)"
   ]
  }
 ],
 "metadata": {
  "kernelspec": {
   "display_name": "pengprop",
   "language": "python",
   "name": "python3"
  },
  "language_info": {
   "codemirror_mode": {
    "name": "ipython",
    "version": 3
   },
   "file_extension": ".py",
   "mimetype": "text/x-python",
   "name": "python",
   "nbconvert_exporter": "python",
   "pygments_lexer": "ipython3",
   "version": "3.13.2"
  }
 },
 "nbformat": 4,
 "nbformat_minor": 2
}
